{
 "cells": [
  {
   "cell_type": "code",
   "execution_count": 12,
   "metadata": {},
   "outputs": [],
   "source": [
    "import tensorflow as tf\n",
    "import numpy as np\n",
    "\n",
    "tf.enable_eager_execution()"
   ]
  },
  {
   "cell_type": "code",
   "execution_count": 10,
   "metadata": {},
   "outputs": [
    {
     "name": "stdout",
     "output_type": "stream",
     "text": [
      "    0 |   32536.6523\n",
      "   50 |     398.7853\n",
      "  100 |      42.0814\n",
      "  150 |      38.0230\n",
      "  200 |      37.8779\n",
      "  250 |      37.7765\n",
      "  300 |      37.6759\n",
      "  350 |      37.5755\n",
      "  400 |      37.4755\n",
      "  450 |      37.3755\n",
      "  500 |      37.2760\n",
      "  550 |      37.1768\n",
      "  600 |      37.0776\n",
      "  650 |      36.9789\n",
      "  700 |      36.8803\n",
      "  750 |      36.7822\n",
      "  800 |      36.6842\n",
      "  850 |      36.5865\n",
      "  900 |      36.4892\n",
      "  950 |      36.3920\n",
      " 1000 |      36.2951\n"
     ]
    }
   ],
   "source": [
    "x1 = [73., 93., 89., 96., 73.]\n",
    "x2 = [80., 88., 91., 98., 66.]\n",
    "x3 = [75., 93., 90., 100., 70.]\n",
    "Y = [152., 185., 180., 196., 142.]\n",
    "\n",
    "w1 = tf.Variable(tf.random_normal([1]))\n",
    "w2 = tf.Variable(tf.random_normal([1]))\n",
    "w3 = tf.Variable(tf.random_normal([1]))\n",
    "b = tf.Variable(tf.random_normal([1]))\n",
    "\n",
    "learning_rate = 0.000001\n",
    "\n",
    "for i in range(1001):\n",
    "    with tf.GradientTape() as tape:\n",
    "        hypothesis = w1 * x1 + w2 * x2 + w3 * x3 + b\n",
    "        cost = tf.reduce_mean(tf.square(hypothesis - Y))\n",
    "        \n",
    "    w1_grad, w2_grad, w3_grad, b_grad = tape.gradient(cost, [w1, w2, w3, b])\n",
    "    \n",
    "    w1.assign_sub(learning_rate * w1_grad)\n",
    "    w2.assign_sub(learning_rate * w2_grad)\n",
    "    w3.assign_sub(learning_rate * w3_grad)\n",
    "    b.assign_sub(learning_rate * b_grad)\n",
    "    \n",
    "    if i % 50 == 0:\n",
    "        print(\"{:5} | {:12.4f}\".format(i, cost.numpy()))"
   ]
  },
  {
   "cell_type": "markdown",
   "metadata": {},
   "source": [
    "w1, w2, w3, b값을 gradient descent를 통해 변화시키며 cost값의 변화 출력: 일정 수준 이상으로는 cost가 줄어들지 않는 것을 알 수 있다."
   ]
  },
  {
   "cell_type": "markdown",
   "metadata": {},
   "source": [
    "<hr>"
   ]
  },
  {
   "cell_type": "markdown",
   "metadata": {},
   "source": [
    "Matrix 곱 활용"
   ]
  },
  {
   "cell_type": "code",
   "execution_count": 14,
   "metadata": {
    "scrolled": false
   },
   "outputs": [
    {
     "name": "stdout",
     "output_type": "stream",
     "text": [
      "    0 | 28323.2500\n",
      "  100 |     7.2415\n",
      "  200 |     3.7445\n",
      "  300 |     3.7334\n",
      "  400 |     3.7228\n",
      "  500 |     3.7122\n",
      "  600 |     3.7017\n",
      "  700 |     3.6912\n",
      "  800 |     3.6808\n",
      "  900 |     3.6705\n",
      " 1000 |     3.6602\n",
      " 1100 |     3.6499\n",
      " 1200 |     3.6397\n",
      " 1300 |     3.6295\n",
      " 1400 |     3.6194\n",
      " 1500 |     3.6094\n",
      " 1600 |     3.5993\n",
      " 1700 |     3.5894\n",
      " 1800 |     3.5794\n",
      " 1900 |     3.5696\n",
      " 2000 |     3.5597\n"
     ]
    }
   ],
   "source": [
    "data = np.array([\n",
    "    # X1, X2, X3, Y\n",
    "    [73., 80., 75., 152.],\n",
    "    [93., 88., 93., 185.],\n",
    "    [89., 91., 90., 180.],\n",
    "    [96., 98., 100., 196.],\n",
    "    [73., 66., 70., 142.]\n",
    "], dtype = np.float32)\n",
    "\n",
    "X = data[:, :-1] # X: 모든 row의 마지막 column을 제외한 나머지\n",
    "Y = data[:, [-1]] # Y: 모든 row의 마지막 column\n",
    "W = tf.Variable(tf.random_normal([3, 1]))\n",
    "b = tf.Variable(tf.random_normal([1]))\n",
    "\n",
    "learning_rate = 0.000001\n",
    "\n",
    "# 예측함수\n",
    "def predict(X):\n",
    "    return tf.matmul(X, W) + b\n",
    "\n",
    "n_epochs = 2000\n",
    "\n",
    "for i in range(n_epochs+1):\n",
    "    with tf.GradientTape() as tape:\n",
    "        cost = tf.reduce_mean((tf.square(predict(X) - Y)))\n",
    "        \n",
    "    W_grad, b_grad = tape.gradient(cost, [W, b])\n",
    "    \n",
    "    W.assign_sub(learning_rate * W_grad)\n",
    "    b.assign_sub(learning_rate * b_grad)\n",
    "    \n",
    "    if i % 100 == 0:\n",
    "        print(\"{:5} | {:10.4f}\".format(i, cost.numpy()))"
   ]
  },
  {
   "cell_type": "markdown",
   "metadata": {},
   "source": [
    "cost가 급격히 감소: 빠르게 최적화가 완료되었다."
   ]
  },
  {
   "cell_type": "markdown",
   "metadata": {},
   "source": [
    "> 변수의 갯수가 많을 경우 matrix를 사용하면 표현, 성능면에서 유용하다."
   ]
  }
 ],
 "metadata": {
  "kernelspec": {
   "display_name": "Python 3",
   "language": "python",
   "name": "python3"
  },
  "language_info": {
   "codemirror_mode": {
    "name": "ipython",
    "version": 3
   },
   "file_extension": ".py",
   "mimetype": "text/x-python",
   "name": "python",
   "nbconvert_exporter": "python",
   "pygments_lexer": "ipython3",
   "version": "3.6.8"
  }
 },
 "nbformat": 4,
 "nbformat_minor": 2
}
