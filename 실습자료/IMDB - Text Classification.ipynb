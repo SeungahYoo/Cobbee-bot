{
 "cells": [
  {
   "cell_type": "code",
   "execution_count": 1,
   "metadata": {},
   "outputs": [
    {
     "name": "stdout",
     "output_type": "stream",
     "text": [
      "1.13.1\n"
     ]
    }
   ],
   "source": [
    "import numpy as np\n",
    "import tensorflow as tf\n",
    "from tensorflow import keras\n",
    "\n",
    "tf.set_random_seed(777)  # for reproducibility\n",
    "print(tf.__version__)"
   ]
  },
  {
   "cell_type": "code",
   "execution_count": 2,
   "metadata": {
    "scrolled": true
   },
   "outputs": [
    {
     "name": "stdout",
     "output_type": "stream",
     "text": [
      "Downloading data from https://storage.googleapis.com/tensorflow/tf-keras-datasets/imdb.npz\n",
      "17465344/17464789 [==============================] - 3s 0us/step\n",
      "Training entries: 25000, labels: 25000\n",
      "[1, 14, 22, 16, 43, 530, 973, 1622, 1385, 65, 458, 4468, 66, 3941, 4, 173, 36, 256, 5, 25, 100, 43, 838, 112, 50, 670, 2, 9, 35, 480, 284, 5, 150, 4, 172, 112, 167, 2, 336, 385, 39, 4, 172, 4536, 1111, 17, 546, 38, 13, 447, 4, 192, 50, 16, 6, 147, 2025, 19, 14, 22, 4, 1920, 4613, 469, 4, 22, 71, 87, 12, 16, 43, 530, 38, 76, 15, 13, 1247, 4, 22, 17, 515, 17, 12, 16, 626, 18, 2, 5, 62, 386, 12, 8, 316, 8, 106, 5, 4, 2223, 5244, 16, 480, 66, 3785, 33, 4, 130, 12, 16, 38, 619, 5, 25, 124, 51, 36, 135, 48, 25, 1415, 33, 6, 22, 12, 215, 28, 77, 52, 5, 14, 407, 16, 82, 2, 8, 4, 107, 117, 5952, 15, 256, 4, 2, 7, 3766, 5, 723, 36, 71, 43, 530, 476, 26, 400, 317, 46, 7, 4, 2, 1029, 13, 104, 88, 4, 381, 15, 297, 98, 32, 2071, 56, 26, 141, 6, 194, 7486, 18, 4, 226, 22, 21, 134, 476, 26, 480, 5, 144, 30, 5535, 18, 51, 36, 28, 224, 92, 25, 104, 4, 226, 65, 16, 38, 1334, 88, 12, 16, 283, 5, 16, 4472, 113, 103, 32, 15, 16, 5345, 19, 178, 32]\n"
     ]
    }
   ],
   "source": [
    "imdb = keras.datasets.imdb\n",
    "(train_data, train_labels), (test_data, test_labels) = imdb.load_data(num_words=10000)\n",
    "print(\"Training entries: {}, labels: {}\".format(len(train_data), len(train_labels)))\n",
    "print(train_data[0])"
   ]
  },
  {
   "cell_type": "markdown",
   "metadata": {},
   "source": [
    "자연어 전처리 과정: 각각의 단어를 vector로 만든다"
   ]
  },
  {
   "cell_type": "code",
   "execution_count": 3,
   "metadata": {
    "scrolled": true
   },
   "outputs": [
    {
     "name": "stdout",
     "output_type": "stream",
     "text": [
      "Downloading data from https://storage.googleapis.com/tensorflow/tf-keras-datasets/imdb_word_index.json\n",
      "1646592/1641221 [==============================] - 1s 0us/step\n"
     ]
    },
    {
     "data": {
      "text/plain": [
       "\"<START> worst mistake of my life br br i picked this movie up at target for 5 because i figured hey it's sandler i can get some cheap laughs i was wrong completely wrong mid way through the film all three of my friends were asleep and i was still suffering worst plot worst script worst movie i have ever seen i wanted to hit my head up against a wall for an hour then i'd stop and you know why because it felt damn good upon bashing my head in i stuck that damn movie in the <UNK> and watched it burn and that felt better than anything else i've ever done it took american psycho army of darkness and kill bill just to get over that crap i hate you sandler for actually going through with this and ruining a whole day of my life\""
      ]
     },
     "execution_count": 3,
     "metadata": {},
     "output_type": "execute_result"
    }
   ],
   "source": [
    "# A dictionary mapping words to an integer index\n",
    "word_index = imdb.get_word_index()\n",
    "\n",
    "# The first indices are reserved\n",
    "word_index = {k:(v+3) for k,v in word_index.items()}\n",
    "word_index[\"<PAD>\"] = 0 # 공백\n",
    "word_index[\"<START>\"] = 1 # 시작\n",
    "word_index[\"<UNK>\"] = 2  # 모르는 단어\n",
    "word_index[\"<UNUSED>\"] = 3 # 사용되지 않은 단어\n",
    "\n",
    "reverse_word_index = dict([(value, key) for (key, value) in word_index.items()])\n",
    "\n",
    "def decode_review(text):\n",
    "    return ' '.join([reverse_word_index.get(i, '?') for i in text])\n",
    "\n",
    "decode_review(train_data[4])"
   ]
  },
  {
   "cell_type": "markdown",
   "metadata": {},
   "source": [
    "training data, test data 분리"
   ]
  },
  {
   "cell_type": "code",
   "execution_count": 4,
   "metadata": {},
   "outputs": [
    {
     "name": "stdout",
     "output_type": "stream",
     "text": [
      "256 256\n",
      "[   1   14   22   16   43  530  973 1622 1385   65  458 4468   66 3941\n",
      "    4  173   36  256    5   25  100   43  838  112   50  670    2    9\n",
      "   35  480  284    5  150    4  172  112  167    2  336  385   39    4\n",
      "  172 4536 1111   17  546   38   13  447    4  192   50   16    6  147\n",
      " 2025   19   14   22    4 1920 4613  469    4   22   71   87   12   16\n",
      "   43  530   38   76   15   13 1247    4   22   17  515   17   12   16\n",
      "  626   18    2    5   62  386   12    8  316    8  106    5    4 2223\n",
      " 5244   16  480   66 3785   33    4  130   12   16   38  619    5   25\n",
      "  124   51   36  135   48   25 1415   33    6   22   12  215   28   77\n",
      "   52    5   14  407   16   82    2    8    4  107  117 5952   15  256\n",
      "    4    2    7 3766    5  723   36   71   43  530  476   26  400  317\n",
      "   46    7    4    2 1029   13  104   88    4  381   15  297   98   32\n",
      " 2071   56   26  141    6  194 7486   18    4  226   22   21  134  476\n",
      "   26  480    5  144   30 5535   18   51   36   28  224   92   25  104\n",
      "    4  226   65   16   38 1334   88   12   16  283    5   16 4472  113\n",
      "  103   32   15   16 5345   19  178   32    0    0    0    0    0    0\n",
      "    0    0    0    0    0    0    0    0    0    0    0    0    0    0\n",
      "    0    0    0    0    0    0    0    0    0    0    0    0    0    0\n",
      "    0    0    0    0]\n"
     ]
    }
   ],
   "source": [
    "train_data = keras.preprocessing.sequence.pad_sequences(train_data,\n",
    "                                                        value=word_index[\"<PAD>\"],\n",
    "                                                        padding='post',\n",
    "                                                        maxlen=256)\n",
    "\n",
    "test_data = keras.preprocessing.sequence.pad_sequences(test_data,\n",
    "                                                       value=word_index[\"<PAD>\"],\n",
    "                                                       padding='post',\n",
    "                                                       maxlen=256)\n",
    "\n",
    "print(len(train_data[0]), len(test_data[0]))\n",
    "print(train_data[0])"
   ]
  },
  {
   "cell_type": "markdown",
   "metadata": {},
   "source": [
    "분류 모델 정의"
   ]
  },
  {
   "cell_type": "code",
   "execution_count": 5,
   "metadata": {},
   "outputs": [
    {
     "name": "stdout",
     "output_type": "stream",
     "text": [
      "WARNING:tensorflow:From /opt/conda/lib/python3.6/site-packages/tensorflow/python/ops/resource_variable_ops.py:435: colocate_with (from tensorflow.python.framework.ops) is deprecated and will be removed in a future version.\n",
      "Instructions for updating:\n",
      "Colocations handled automatically by placer.\n",
      "_________________________________________________________________\n",
      "Layer (type)                 Output Shape              Param #   \n",
      "=================================================================\n",
      "embedding (Embedding)        (None, None, 16)          160000    \n",
      "_________________________________________________________________\n",
      "global_average_pooling1d (Gl (None, 16)                0         \n",
      "_________________________________________________________________\n",
      "dense (Dense)                (None, 16)                272       \n",
      "_________________________________________________________________\n",
      "dense_1 (Dense)              (None, 1)                 17        \n",
      "=================================================================\n",
      "Total params: 160,289\n",
      "Trainable params: 160,289\n",
      "Non-trainable params: 0\n",
      "_________________________________________________________________\n"
     ]
    }
   ],
   "source": [
    "# input shape is the vocabulary count used for the movie reviews (10,000 words)\n",
    "vocab_size = 10000\n",
    "\n",
    "model = keras.Sequential()\n",
    "model.add(keras.layers.Embedding(vocab_size, 16))\n",
    "model.add(keras.layers.GlobalAveragePooling1D())\n",
    "model.add(keras.layers.Dense(16, activation=tf.nn.relu))\n",
    "model.add(keras.layers.Dense(1, activation=tf.nn.sigmoid))\n",
    "\n",
    "model.summary()"
   ]
  },
  {
   "cell_type": "code",
   "execution_count": 6,
   "metadata": {},
   "outputs": [],
   "source": [
    "model.compile(optimizer='adam',\n",
    "              loss='binary_crossentropy',\n",
    "              metrics=['accuracy'])"
   ]
  },
  {
   "cell_type": "markdown",
   "metadata": {},
   "source": [
    "모델 학습 및 평가 수행"
   ]
  },
  {
   "cell_type": "code",
   "execution_count": 7,
   "metadata": {
    "scrolled": false
   },
   "outputs": [
    {
     "name": "stdout",
     "output_type": "stream",
     "text": [
      "Train on 15000 samples, validate on 10000 samples\n",
      "WARNING:tensorflow:From /opt/conda/lib/python3.6/site-packages/tensorflow/python/ops/math_ops.py:3066: to_int32 (from tensorflow.python.ops.math_ops) is deprecated and will be removed in a future version.\n",
      "Instructions for updating:\n",
      "Use tf.cast instead.\n",
      "Epoch 1/40\n",
      "15000/15000 [==============================] - 1s 54us/sample - loss: 0.6921 - acc: 0.6040 - val_loss: 0.6902 - val_acc: 0.7156\n",
      "Epoch 2/40\n",
      "15000/15000 [==============================] - 0s 33us/sample - loss: 0.6864 - acc: 0.7252 - val_loss: 0.6817 - val_acc: 0.7459\n",
      "Epoch 3/40\n",
      "15000/15000 [==============================] - 0s 33us/sample - loss: 0.6724 - acc: 0.7592 - val_loss: 0.6634 - val_acc: 0.7571\n",
      "Epoch 4/40\n",
      "15000/15000 [==============================] - 0s 33us/sample - loss: 0.6467 - acc: 0.7653 - val_loss: 0.6338 - val_acc: 0.7582\n",
      "Epoch 5/40\n",
      "15000/15000 [==============================] - 1s 33us/sample - loss: 0.6090 - acc: 0.7930 - val_loss: 0.5947 - val_acc: 0.7875\n",
      "Epoch 6/40\n",
      "15000/15000 [==============================] - 1s 34us/sample - loss: 0.5623 - acc: 0.8159 - val_loss: 0.5505 - val_acc: 0.8083\n",
      "Epoch 7/40\n",
      "15000/15000 [==============================] - 1s 35us/sample - loss: 0.5117 - acc: 0.8313 - val_loss: 0.5039 - val_acc: 0.8227\n",
      "Epoch 8/40\n",
      "15000/15000 [==============================] - 0s 33us/sample - loss: 0.4627 - acc: 0.8512 - val_loss: 0.4623 - val_acc: 0.8374\n",
      "Epoch 9/40\n",
      "15000/15000 [==============================] - 1s 34us/sample - loss: 0.4185 - acc: 0.8651 - val_loss: 0.4262 - val_acc: 0.8468\n",
      "Epoch 10/40\n",
      "15000/15000 [==============================] - 1s 35us/sample - loss: 0.3805 - acc: 0.8765 - val_loss: 0.3972 - val_acc: 0.8536\n",
      "Epoch 11/40\n",
      "15000/15000 [==============================] - 1s 34us/sample - loss: 0.3489 - acc: 0.8859 - val_loss: 0.3738 - val_acc: 0.8615\n",
      "Epoch 12/40\n",
      "15000/15000 [==============================] - 0s 33us/sample - loss: 0.3226 - acc: 0.8922 - val_loss: 0.3560 - val_acc: 0.8648\n",
      "Epoch 13/40\n",
      "15000/15000 [==============================] - 0s 33us/sample - loss: 0.3011 - acc: 0.8985 - val_loss: 0.3405 - val_acc: 0.8709\n",
      "Epoch 14/40\n",
      "15000/15000 [==============================] - 0s 32us/sample - loss: 0.2818 - acc: 0.9035 - val_loss: 0.3291 - val_acc: 0.8739\n",
      "Epoch 15/40\n",
      "15000/15000 [==============================] - 1s 34us/sample - loss: 0.2655 - acc: 0.9089 - val_loss: 0.3199 - val_acc: 0.8756\n",
      "Epoch 16/40\n",
      "15000/15000 [==============================] - 0s 32us/sample - loss: 0.2509 - acc: 0.9138 - val_loss: 0.3122 - val_acc: 0.8762\n",
      "Epoch 17/40\n",
      "15000/15000 [==============================] - 0s 33us/sample - loss: 0.2373 - acc: 0.9182 - val_loss: 0.3058 - val_acc: 0.8790\n",
      "Epoch 18/40\n",
      "15000/15000 [==============================] - 0s 32us/sample - loss: 0.2252 - acc: 0.9230 - val_loss: 0.3005 - val_acc: 0.8810\n",
      "Epoch 19/40\n",
      "15000/15000 [==============================] - 1s 42us/sample - loss: 0.2143 - acc: 0.9253 - val_loss: 0.2959 - val_acc: 0.8830\n",
      "Epoch 20/40\n",
      "15000/15000 [==============================] - 1s 38us/sample - loss: 0.2045 - acc: 0.9293 - val_loss: 0.2929 - val_acc: 0.8830\n",
      "Epoch 21/40\n",
      "15000/15000 [==============================] - 0s 32us/sample - loss: 0.1944 - acc: 0.9347 - val_loss: 0.2903 - val_acc: 0.8837\n",
      "Epoch 22/40\n",
      "15000/15000 [==============================] - 0s 33us/sample - loss: 0.1860 - acc: 0.9383 - val_loss: 0.2883 - val_acc: 0.8847\n",
      "Epoch 23/40\n",
      "15000/15000 [==============================] - 0s 33us/sample - loss: 0.1775 - acc: 0.9427 - val_loss: 0.2877 - val_acc: 0.8846\n",
      "Epoch 24/40\n",
      "15000/15000 [==============================] - 1s 34us/sample - loss: 0.1702 - acc: 0.9457 - val_loss: 0.2864 - val_acc: 0.8840\n",
      "Epoch 25/40\n",
      "15000/15000 [==============================] - 0s 32us/sample - loss: 0.1627 - acc: 0.9486 - val_loss: 0.2854 - val_acc: 0.8858\n",
      "Epoch 26/40\n",
      "15000/15000 [==============================] - 1s 38us/sample - loss: 0.1560 - acc: 0.9514 - val_loss: 0.2864 - val_acc: 0.8828\n",
      "Epoch 27/40\n",
      "15000/15000 [==============================] - 1s 35us/sample - loss: 0.1496 - acc: 0.9541 - val_loss: 0.2861 - val_acc: 0.8851\n",
      "Epoch 28/40\n",
      "15000/15000 [==============================] - 0s 33us/sample - loss: 0.1435 - acc: 0.9561 - val_loss: 0.2870 - val_acc: 0.8846\n",
      "Epoch 29/40\n",
      "15000/15000 [==============================] - 0s 33us/sample - loss: 0.1382 - acc: 0.9590 - val_loss: 0.2890 - val_acc: 0.8843\n",
      "Epoch 30/40\n",
      "15000/15000 [==============================] - 1s 34us/sample - loss: 0.1325 - acc: 0.9608 - val_loss: 0.2887 - val_acc: 0.8857\n",
      "Epoch 31/40\n",
      "15000/15000 [==============================] - 1s 35us/sample - loss: 0.1269 - acc: 0.9631 - val_loss: 0.2900 - val_acc: 0.8859\n",
      "Epoch 32/40\n",
      "15000/15000 [==============================] - 1s 36us/sample - loss: 0.1218 - acc: 0.9659 - val_loss: 0.2918 - val_acc: 0.8852\n",
      "Epoch 33/40\n",
      "15000/15000 [==============================] - 1s 36us/sample - loss: 0.1169 - acc: 0.9677 - val_loss: 0.2944 - val_acc: 0.8850\n",
      "Epoch 34/40\n",
      "15000/15000 [==============================] - 1s 35us/sample - loss: 0.1125 - acc: 0.9685 - val_loss: 0.2969 - val_acc: 0.8840\n",
      "Epoch 35/40\n",
      "15000/15000 [==============================] - 1s 35us/sample - loss: 0.1084 - acc: 0.9695 - val_loss: 0.2998 - val_acc: 0.8847\n",
      "Epoch 36/40\n",
      "15000/15000 [==============================] - 1s 37us/sample - loss: 0.1041 - acc: 0.9718 - val_loss: 0.3017 - val_acc: 0.8836\n",
      "Epoch 37/40\n",
      "15000/15000 [==============================] - 1s 34us/sample - loss: 0.0998 - acc: 0.9729 - val_loss: 0.3046 - val_acc: 0.8822\n",
      "Epoch 38/40\n",
      "15000/15000 [==============================] - 1s 35us/sample - loss: 0.0960 - acc: 0.9749 - val_loss: 0.3085 - val_acc: 0.8827\n",
      "Epoch 39/40\n",
      "15000/15000 [==============================] - 1s 39us/sample - loss: 0.0929 - acc: 0.9759 - val_loss: 0.3125 - val_acc: 0.8810\n",
      "Epoch 40/40\n",
      "15000/15000 [==============================] - 1s 38us/sample - loss: 0.0889 - acc: 0.9773 - val_loss: 0.3154 - val_acc: 0.8814\n"
     ]
    }
   ],
   "source": [
    "x_val = train_data[:10000]\n",
    "partial_x_train = train_data[10000:]\n",
    "\n",
    "y_val = train_labels[:10000]\n",
    "partial_y_train = train_labels[10000:]\n",
    "\n",
    "history = model.fit(partial_x_train,\n",
    "                    partial_y_train,\n",
    "                    epochs=40,\n",
    "                    batch_size=512,\n",
    "                    validation_data=(x_val, y_val),\n",
    "                    verbose=1)"
   ]
  },
  {
   "cell_type": "markdown",
   "metadata": {},
   "source": [
    "test data로 정확도 측정"
   ]
  },
  {
   "cell_type": "code",
   "execution_count": 8,
   "metadata": {},
   "outputs": [
    {
     "name": "stdout",
     "output_type": "stream",
     "text": [
      "25000/25000 [==============================] - 1s 39us/sample - loss: 0.3366 - acc: 0.8709\n",
      "[0.3366193170452118, 0.87088]\n"
     ]
    }
   ],
   "source": [
    "results = model.evaluate(test_data, test_labels)\n",
    "print(results)"
   ]
  }
 ],
 "metadata": {
  "kernelspec": {
   "display_name": "Python 3",
   "language": "python",
   "name": "python3"
  },
  "language_info": {
   "codemirror_mode": {
    "name": "ipython",
    "version": 3
   },
   "file_extension": ".py",
   "mimetype": "text/x-python",
   "name": "python",
   "nbconvert_exporter": "python",
   "pygments_lexer": "ipython3",
   "version": "3.6.8"
  }
 },
 "nbformat": 4,
 "nbformat_minor": 2
}
